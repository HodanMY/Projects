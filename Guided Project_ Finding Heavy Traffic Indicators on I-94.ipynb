{
 "cells": [
  {
   "cell_type": "markdown",
   "metadata": {},
   "source": [
    "## Determining the indicators of heavy traffic on I-94.\n",
    "\n",
    "Interstate 94 (I-94) is an east–west Interstate Highway connecting the Great Lakes and northern Great Plains regions of the United States. The project is about analyzing the traffic conditions and the impact of the different indicators in the dataset; the weather, time of the day, weekdays vs weekends etc. \n"
   ]
  },
  {
   "cell_type": "markdown",
   "metadata": {},
   "source": [
    "\n"
   ]
  },
  {
   "cell_type": "code",
   "execution_count": 243,
   "metadata": {},
   "outputs": [],
   "source": [
    "import seaborn as sns\n",
    "import matplotlib.pyplot as plt\n",
    "import pandas as pd\n",
    "%matplotlib inline\n",
    "\n",
    "mitv = pd.read_csv('Metro_Interstate_Traffic_Volume.csv.gz')"
   ]
  },
  {
   "cell_type": "code",
   "execution_count": 244,
   "metadata": {
    "collapsed": true
   },
   "outputs": [
    {
     "name": "stdout",
     "output_type": "stream",
     "text": [
      "  holiday    temp  rain_1h  snow_1h  clouds_all weather_main  \\\n",
      "0    None  288.28      0.0      0.0          40       Clouds   \n",
      "1    None  289.36      0.0      0.0          75       Clouds   \n",
      "2    None  289.58      0.0      0.0          90       Clouds   \n",
      "3    None  290.13      0.0      0.0          90       Clouds   \n",
      "4    None  291.14      0.0      0.0          75       Clouds   \n",
      "\n",
      "  weather_description            date_time  traffic_volume  \n",
      "0    scattered clouds  2012-10-02 09:00:00            5545  \n",
      "1       broken clouds  2012-10-02 10:00:00            4516  \n",
      "2     overcast clouds  2012-10-02 11:00:00            4767  \n",
      "3     overcast clouds  2012-10-02 12:00:00            5026  \n",
      "4       broken clouds  2012-10-02 13:00:00            4918  \n",
      "      holiday    temp  rain_1h  snow_1h  clouds_all  weather_main  \\\n",
      "48199    None  283.45      0.0      0.0          75        Clouds   \n",
      "48200    None  282.76      0.0      0.0          90        Clouds   \n",
      "48201    None  282.73      0.0      0.0          90  Thunderstorm   \n",
      "48202    None  282.09      0.0      0.0          90        Clouds   \n",
      "48203    None  282.12      0.0      0.0          90        Clouds   \n",
      "\n",
      "          weather_description            date_time  traffic_volume  \n",
      "48199           broken clouds  2018-09-30 19:00:00            3543  \n",
      "48200         overcast clouds  2018-09-30 20:00:00            2781  \n",
      "48201  proximity thunderstorm  2018-09-30 21:00:00            2159  \n",
      "48202         overcast clouds  2018-09-30 22:00:00            1450  \n",
      "48203         overcast clouds  2018-09-30 23:00:00             954  \n",
      "<class 'pandas.core.frame.DataFrame'>\n",
      "RangeIndex: 48204 entries, 0 to 48203\n",
      "Data columns (total 9 columns):\n",
      " #   Column               Non-Null Count  Dtype  \n",
      "---  ------               --------------  -----  \n",
      " 0   holiday              48204 non-null  object \n",
      " 1   temp                 48204 non-null  float64\n",
      " 2   rain_1h              48204 non-null  float64\n",
      " 3   snow_1h              48204 non-null  float64\n",
      " 4   clouds_all           48204 non-null  int64  \n",
      " 5   weather_main         48204 non-null  object \n",
      " 6   weather_description  48204 non-null  object \n",
      " 7   date_time            48204 non-null  object \n",
      " 8   traffic_volume       48204 non-null  int64  \n",
      "dtypes: float64(3), int64(2), object(4)\n",
      "memory usage: 3.3+ MB\n"
     ]
    }
   ],
   "source": [
    "print(mitv.head(5))\n",
    "print(mitv.tail(5))\n",
    "mitv.info()"
   ]
  },
  {
   "cell_type": "markdown",
   "metadata": {},
   "source": [
    "Examining the distribution of the traffic_volume column\n",
    "Looking up a few statistics about the traffic_volume column\n"
   ]
  },
  {
   "cell_type": "code",
   "execution_count": 245,
   "metadata": {
    "collapsed": true
   },
   "outputs": [
    {
     "name": "stdout",
     "output_type": "stream",
     "text": [
      "0        5545\n",
      "1        4516\n",
      "2        4767\n",
      "3        5026\n",
      "4        4918\n",
      "         ... \n",
      "48199    3543\n",
      "48200    2781\n",
      "48201    2159\n",
      "48202    1450\n",
      "48203     954\n",
      "Name: traffic_volume, Length: 48204, dtype: int64\n"
     ]
    },
    {
     "data": {
      "image/png": "[encoded data removed]",
      "text/plain": [
       "<Figure size 432x288 with 1 Axes>"
      ]
     },
     "metadata": {
      "needs_background": "light"
     },
     "output_type": "display_data"
    }
   ],
   "source": [
    "plt.hist(mitv['traffic_volume'])\n",
    "print(mitv['traffic_volume'])"
   ]
  },
  {
   "cell_type": "markdown",
   "metadata": {},
   "source": [
    "# Analysing the difference in traffic volume based on time of day"
   ]
  },
  {
   "cell_type": "code",
   "execution_count": 246,
   "metadata": {},
   "outputs": [],
   "source": [
    "#Transforming the date_time column to datetime \n",
    "mitv['date_time'] = pd.to_datetime(mitv['date_time'])\n",
    "\n",
    "#Getting the hour of every instance of the date_time column\n",
    "mitv['hour']=mitv['date_time'].dt.hour\n",
    "\n",
    "#Daytime data: hours from 7 a.m. to 7 p.m. (12 hours)\n",
    "daytime = mitv.copy()[(mitv['hour']<19) & (mitv['hour']>=7)]\n",
    "\n",
    "#Nighttime data: hours from 7 p.m. to 7 a.m. (12 hours)\n",
    "nighttime = mitv.copy()[(mitv['hour']<7) | (mitv['hour']>=19)]"
   ]
  },
  {
   "cell_type": "code",
   "execution_count": 247,
   "metadata": {
    "collapsed": true
   },
   "outputs": [
    {
     "name": "stdout",
     "output_type": "stream",
     "text": [
      "Traffic volume during the day time\n",
      "count    23877.000000\n",
      "mean      4762.047452\n",
      "std       1174.546482\n",
      "min          0.000000\n",
      "25%       4252.000000\n",
      "50%       4820.000000\n",
      "75%       5559.000000\n",
      "max       7280.000000\n",
      "Name: traffic_volume, dtype: float64\n",
      "\n",
      "Traffic volume during the night time\n",
      "count    24327.000000\n",
      "mean      1785.377441\n",
      "std       1441.951197\n",
      "min          0.000000\n",
      "25%        530.000000\n",
      "50%       1287.000000\n",
      "75%       2819.000000\n",
      "max       6386.000000\n",
      "Name: traffic_volume, dtype: float64\n"
     ]
    }
   ],
   "source": [
    "#looking up a few statistics for traffic_volume for both day and night.\n",
    "print('Traffic volume during the day time')\n",
    "print(daytime['traffic_volume'].describe())\n",
    "\n",
    "print('\\nTraffic volume during the night time')\n",
    "print(nighttime['traffic_volume'].describe()) "
   ]
  },
  {
   "cell_type": "markdown",
   "metadata": {},
   "source": [
    "As we can see from the above, traffic is generally lighter during the day, this can be seen by the difference in the mean of traffic volume"
   ]
  },
  {
   "cell_type": "code",
   "execution_count": 248,
   "metadata": {
    "collapsed": true
   },
   "outputs": [
    {
     "data": {
      "image/png": "[encoded data removed]",
      "text/plain": [
       "<Figure size 432x288 with 1 Axes>"
      ]
     },
     "metadata": {
      "needs_background": "light"
     },
     "output_type": "display_data"
    },
    {
     "data": {
      "image/png": "[encoded data removed]",
      "text/plain": [
       "<Figure size 432x288 with 1 Axes>"
      ]
     },
     "metadata": {
      "needs_background": "light"
     },
     "output_type": "display_data"
    }
   ],
   "source": [
    "\n",
    "plt.hist(daytime['traffic_volume'])\n",
    "plt.title('Traffic Volume during the daytime')\n",
    "plt.ylabel('Frequency')\n",
    "plt.xlabel('Traffic Volume')\n",
    "plt.ylim(0,8000) \n",
    "plt.xlim(0,7500) \n",
    "plt.show()\n",
    "\n",
    "plt.hist(nighttime['traffic_volume'])\n",
    "plt.title('Traffic Volume during the night time')\n",
    "plt.ylabel('Frequency')\n",
    "plt.xlabel('Traffic Volume')\n",
    "plt.ylim(0,8000) \n",
    "plt.xlim(0,7500) \n",
    "plt.show()"
   ]
  },
  {
   "cell_type": "markdown",
   "metadata": {},
   "source": [
    "The histogram that shows the distribution of traffic volume during the day is left skewed. This means that there are 4,252 or more cars passing the station each hour 75% of the time (because 25% of values are less than 4,252).\n",
    "\n",
    "The histogram displaying the night-time data is right skewed. This means that most of the traffic volume values are low — 75% of the time, the number of cars that passed the station each hour was less than 2,819. For this reason, moin forward we'll be exclusively analysing the daytime data."
   ]
  },
  {
   "cell_type": "markdown",
   "metadata": {},
   "source": [
    "## Analysing the difference in traffic volume based on the month"
   ]
  },
  {
   "cell_type": "code",
   "execution_count": 304,
   "metadata": {
    "collapsed": true
   },
   "outputs": [
    {
     "data": {
      "text/plain": [
       "month\n",
       "1     4495.613727\n",
       "2     4711.198394\n",
       "3     4889.409560\n",
       "4     4906.894305\n",
       "5     4911.121609\n",
       "6     4898.019566\n",
       "7     4595.035744\n",
       "8     4928.302035\n",
       "9     4870.783145\n",
       "10    4921.234922\n",
       "11    4704.094319\n",
       "12    4374.834566\n",
       "Name: traffic_volume, dtype: float64"
      ]
     },
     "execution_count": 304,
     "metadata": {},
     "output_type": "execute_result"
    }
   ],
   "source": [
    "#create a new column where each value describes the month when the traffic volume measurement was taken.\n",
    "daytime['Daytime month'] = daytime['date_time'].dt.month\n",
    "\n",
    "# to group the dataset by the month column with the mean as an aggregate function.\n",
    "daytime_by_month = daytime.groupby('month').mean()\n",
    "daytime_by_month['traffic_volume']\n"
   ]
  },
  {
   "cell_type": "code",
   "execution_count": 306,
   "metadata": {
    "collapsed": true
   },
   "outputs": [
    {
     "data": {
      "text/plain": [
       "month\n",
       "1     1616.610448\n",
       "2     1716.961841\n",
       "3     1817.272029\n",
       "4     1786.116598\n",
       "5     1829.852518\n",
       "6     1932.272727\n",
       "7     1838.349193\n",
       "8     1897.564079\n",
       "9     1818.959858\n",
       "10    1852.168591\n",
       "11    1680.311799\n",
       "12    1622.508393\n",
       "Name: traffic_volume, dtype: float64"
      ]
     },
     "execution_count": 306,
     "metadata": {},
     "output_type": "execute_result"
    }
   ],
   "source": [
    "#create a new column where each value describes the month when the traffic volume measurement was taken.\n",
    "nighttime['Night time month'] = nighttime['date_time'].dt.month\n",
    "\n",
    "# to group the dataset by the month column with the mean as an aggregate function.\n",
    "nighttime_by_month = nighttime.groupby('month').mean()\n",
    "nighttime_by_month['traffic_volume']"
   ]
  },
  {
   "cell_type": "code",
   "execution_count": 310,
   "metadata": {
    "collapsed": true
   },
   "outputs": [
    {
     "data": {
      "image/png": "[encoded data removed]",
      "text/plain": [
       "<Figure size 432x288 with 1 Axes>"
      ]
     },
     "metadata": {
      "needs_background": "light"
     },
     "output_type": "display_data"
    }
   ],
   "source": [
    "#creating a line graph to visualize how the traffic volume changed each month on average.\n",
    "daytime_by_month['traffic_volume'].plot.line(label='Daytime')\n",
    "nighttime_by_month['traffic_volume'].plot.line(label='Night Time')\n",
    "plt.legend()\n",
    "plt.title(\"Daytime: Monthly mean traffic volume\")\n",
    "plt.xlabel('Month')\n",
    "plt.ylabel('Traffic Volume')\n",
    "\n",
    "plt.show()\n",
    "#we can see there was a sharp dip in mean traffic volume in July"
   ]
  },
  {
   "cell_type": "markdown",
   "metadata": {},
   "source": [
    "We can see that there was dip in traffic volume during July, we will explore this later on "
   ]
  },
  {
   "cell_type": "markdown",
   "metadata": {},
   "source": [
    "## Analysing the difference in traffic volume based on the day of the week"
   ]
  },
  {
   "cell_type": "code",
   "execution_count": 251,
   "metadata": {
    "collapsed": true
   },
   "outputs": [
    {
     "data": {
      "text/plain": [
       "dayofweek\n",
       "0    4893.551286\n",
       "1    5189.004782\n",
       "2    5284.454282\n",
       "3    5311.303730\n",
       "4    5291.600829\n",
       "5    3927.249558\n",
       "6    3436.541789\n",
       "Name: traffic_volume, dtype: float64"
      ]
     },
     "execution_count": 251,
     "metadata": {},
     "output_type": "execute_result"
    }
   ],
   "source": [
    "#building line plots for another time unit: day of the week.\n",
    "#traffic volume averages for each day of the week,\n",
    "daytime['dayofweek'] = daytime['date_time'].dt.dayofweek\n",
    "by_dayofweek = daytime.groupby('dayofweek').mean()\n",
    "by_dayofweek['traffic_volume']  \n",
    "# 0 is Monday, 6 is Sunday"
   ]
  },
  {
   "cell_type": "code",
   "execution_count": 252,
   "metadata": {
    "collapsed": true
   },
   "outputs": [
    {
     "data": {
      "image/png": "[encoded data removed]",
      "text/plain": [
       "<Figure size 432x288 with 1 Axes>"
      ]
     },
     "metadata": {
      "needs_background": "light"
     },
     "output_type": "display_data"
    }
   ],
   "source": [
    "# visualize how the traffic volume changed each day of the week on average.\n",
    "by_dayofweek['traffic_volume'].plot.line()\n",
    "plt.ylim(3000,5500) \n",
    "plt.title(\"Daytime: Day of the week: mean traffic volume\")\n",
    "positions = (0,1,2,3,4,5,6,)\n",
    "days= ['Monday', 'Tuesday', 'Wednesday', 'Thursday', 'Friday', 'Saturday', 'Sunday']\n",
    "plt.xticks(positions, days, rotation=45)\n",
    "plt.xlabel('Day of the week')\n",
    "plt.ylabel('Avg traffic volume')\n",
    "\n",
    "plt.show()"
   ]
  },
  {
   "cell_type": "markdown",
   "metadata": {},
   "source": [
    "We can see avg traffic volume drops from over 5000 on Friday to just under 4000 by the next day, Saturday. \n",
    "This clearly indicates that traffic in the city is impacted by the whether it is a week day or weekend. "
   ]
  },
  {
   "cell_type": "markdown",
   "metadata": {},
   "source": [
    "# Analysing the difference in traffic volume based on the day type; week day vs weekend"
   ]
  },
  {
   "cell_type": "code",
   "execution_count": 253,
   "metadata": {
    "collapsed": true
   },
   "outputs": [
    {
     "name": "stdout",
     "output_type": "stream",
     "text": [
      "hour\n",
      "7     6030.413559\n",
      "8     5503.497970\n",
      "9     4895.269257\n",
      "10    4378.419118\n",
      "11    4633.419470\n",
      "12    4855.382143\n",
      "13    4859.180473\n",
      "14    5152.995778\n",
      "15    5592.897768\n",
      "16    6189.473647\n",
      "17    5784.827133\n",
      "18    4434.209431\n",
      "Name: traffic_volume, dtype: float64\n",
      "hour\n",
      "7     1589.365894\n",
      "8     2338.578073\n",
      "9     3111.623917\n",
      "10    3686.632302\n",
      "11    4044.154955\n",
      "12    4372.482883\n",
      "13    4362.296564\n",
      "14    4358.543796\n",
      "15    4342.456881\n",
      "16    4339.693805\n",
      "17    4151.919929\n",
      "18    3811.792279\n",
      "Name: traffic_volume, dtype: float64\n"
     ]
    }
   ],
   "source": [
    "##splitting the data based on the day type: business day or weekend\n",
    "daytime['hour'] = daytime['date_time'].dt.hour\n",
    "week_days = daytime.copy()[daytime['dayofweek'] <= 4] # 4 == Friday\n",
    "weekend = daytime.copy()[daytime['dayofweek'] >= 5] # 5 == Saturday\n",
    "by_hour_week_days = week_days.groupby('hour').mean()\n",
    "by_hour_weekend = weekend.groupby('hour').mean()\n",
    "\n",
    "print(by_hour_week_days['traffic_volume'])\n",
    "print(by_hour_weekend['traffic_volume'])"
   ]
  },
  {
   "cell_type": "code",
   "execution_count": 254,
   "metadata": {
    "collapsed": true
   },
   "outputs": [
    {
     "name": "stdout",
     "output_type": "stream",
     "text": [
      "count      12.000000\n",
      "mean     5192.498812\n",
      "std       615.622781\n",
      "min      4378.419118\n",
      "25%      4799.891475\n",
      "50%      5024.132518\n",
      "75%      5640.880110\n",
      "max      6189.473647\n",
      "Name: traffic_volume, dtype: float64\n",
      "count      12.000000\n",
      "mean     3709.128440\n",
      "std       911.307344\n",
      "min      1589.365894\n",
      "25%      3542.880206\n",
      "50%      4098.037442\n",
      "75%      4346.478609\n",
      "max      4372.482883\n",
      "Name: traffic_volume, dtype: float64\n"
     ]
    }
   ],
   "source": [
    "print(by_hour_week_days['traffic_volume'].describe())\n",
    "print(by_hour_weekend['traffic_volume'].describe())"
   ]
  },
  {
   "cell_type": "code",
   "execution_count": 255,
   "metadata": {
    "collapsed": true
   },
   "outputs": [
    {
     "data": {
      "image/png": "[encoded data removed]",
      "text/plain": [
       "<Figure size 432x288 with 1 Axes>"
      ]
     },
     "metadata": {
      "needs_background": "light"
     },
     "output_type": "display_data"
    }
   ],
   "source": [
    "by_hour_week_days['traffic_volume'].plot.line(label='Weekday hours')\n",
    "by_hour_weekend['traffic_volume'].plot.line(label='Weekend hours')\n",
    "\n",
    "plt.title(\"Daytime: Weekday hours and Weekend hours agaisnt mean traffic volume\")\n",
    "plt.xlabel('Hours of the day (24hour clock)')\n",
    "plt.ylabel('Avg traffic \\nvolume', rotation=360)\n",
    "positions = (7,8,9,10,11,12,13,14,15,16,17,18)\n",
    "plt.xticks(positions,positions)\n",
    "plt.ylim(1500,6500)\n",
    "plt.legend()\n",
    "plt.show()\n"
   ]
  },
  {
   "cell_type": "markdown",
   "metadata": {},
   "source": [
    "\n",
    "We can see that for weekdays traffic volume on avg peaks at the beginning of the day 0700 and and again at 1600 hours, which indicates that school pick ups and drop off are responsible for increase in traffic volume.\n",
    "In comparison, we can see for weekend hours traffic volume slowly increases from 7 and peaks at 12 noon and then remains steady with no other peaks.\n"
   ]
  },
  {
   "cell_type": "code",
   "execution_count": 256,
   "metadata": {
    "collapsed": true
   },
   "outputs": [
    {
     "name": "stdout",
     "output_type": "stream",
     "text": [
      "Clouds          15164\n",
      "Clear           13391\n",
      "Mist             5950\n",
      "Rain             5672\n",
      "Snow             2876\n",
      "Drizzle          1821\n",
      "Haze             1360\n",
      "Thunderstorm     1034\n",
      "Fog               912\n",
      "Smoke              20\n",
      "Squall              4\n",
      "Name: weather_main, dtype: int64\n",
      "sky is clear                           11665\n",
      "mist                                    5950\n",
      "overcast clouds                         5081\n",
      "broken clouds                           4666\n",
      "scattered clouds                        3461\n",
      "light rain                              3372\n",
      "few clouds                              1956\n",
      "light snow                              1946\n",
      "Sky is Clear                            1726\n",
      "moderate rain                           1664\n",
      "haze                                    1360\n",
      "light intensity drizzle                 1100\n",
      "fog                                      912\n",
      "proximity thunderstorm                   673\n",
      "drizzle                                  651\n",
      "heavy snow                               616\n",
      "heavy intensity rain                     467\n",
      "snow                                     293\n",
      "proximity shower rain                    136\n",
      "thunderstorm                             125\n",
      "heavy intensity drizzle                   64\n",
      "thunderstorm with heavy rain              63\n",
      "thunderstorm with light rain              54\n",
      "proximity thunderstorm with rain          52\n",
      "thunderstorm with rain                    37\n",
      "smoke                                     20\n",
      "very heavy rain                           18\n",
      "thunderstorm with light drizzle           15\n",
      "light intensity shower rain               13\n",
      "proximity thunderstorm with drizzle       13\n",
      "light shower snow                         11\n",
      "light rain and snow                        6\n",
      "shower drizzle                             6\n",
      "SQUALLS                                    4\n",
      "sleet                                      3\n",
      "freezing rain                              2\n",
      "thunderstorm with drizzle                  2\n",
      "shower snow                                1\n",
      "Name: weather_description, dtype: int64\n"
     ]
    }
   ],
   "source": [
    "#looking at the two weather columns\n",
    "print(mitv['weather_main'].value_counts())\n",
    "\n",
    "print(mitv['weather_description'].value_counts())"
   ]
  },
  {
   "cell_type": "code",
   "execution_count": null,
   "metadata": {},
   "outputs": [],
   "source": []
  },
  {
   "cell_type": "markdown",
   "metadata": {},
   "source": [
    "## Analysing the relationship between weather and traffic volume"
   ]
  },
  {
   "cell_type": "code",
   "execution_count": 257,
   "metadata": {
    "collapsed": true
   },
   "outputs": [
    {
     "data": {
      "text/plain": [
       "temp              0.128317\n",
       "rain_1h           0.003697\n",
       "snow_1h           0.001265\n",
       "clouds_all       -0.032932\n",
       "traffic_volume    1.000000\n",
       "hour              0.172704\n",
       "month            -0.022337\n",
       "dayofweek        -0.416453\n",
       "Name: traffic_volume, dtype: float64"
      ]
     },
     "execution_count": 257,
     "metadata": {},
     "output_type": "execute_result"
    }
   ],
   "source": [
    "daytime.corr()['traffic_volume']"
   ]
  },
  {
   "cell_type": "code",
   "execution_count": 272,
   "metadata": {
    "collapsed": true
   },
   "outputs": [
    {
     "name": "stdout",
     "output_type": "stream",
     "text": [
      "Clouds          15164\n",
      "Clear           13391\n",
      "Mist             5950\n",
      "Rain             5672\n",
      "Snow             2876\n",
      "Drizzle          1821\n",
      "Haze             1360\n",
      "Thunderstorm     1034\n",
      "Fog               912\n",
      "Smoke              20\n",
      "Squall              4\n",
      "Name: weather_main, dtype: int64\n"
     ]
    }
   ],
   "source": [
    "print(mitv['weather_main'].value_counts())"
   ]
  },
  {
   "cell_type": "code",
   "execution_count": 273,
   "metadata": {
    "collapsed": true
   },
   "outputs": [
    {
     "name": "stdout",
     "output_type": "stream",
     "text": [
      "sky is clear                           11665\n",
      "mist                                    5950\n",
      "overcast clouds                         5081\n",
      "broken clouds                           4666\n",
      "scattered clouds                        3461\n",
      "light rain                              3372\n",
      "few clouds                              1956\n",
      "light snow                              1946\n",
      "Sky is Clear                            1726\n",
      "moderate rain                           1664\n",
      "haze                                    1360\n",
      "light intensity drizzle                 1100\n",
      "fog                                      912\n",
      "proximity thunderstorm                   673\n",
      "drizzle                                  651\n",
      "heavy snow                               616\n",
      "heavy intensity rain                     467\n",
      "snow                                     293\n",
      "proximity shower rain                    136\n",
      "thunderstorm                             125\n",
      "heavy intensity drizzle                   64\n",
      "thunderstorm with heavy rain              63\n",
      "thunderstorm with light rain              54\n",
      "proximity thunderstorm with rain          52\n",
      "thunderstorm with rain                    37\n",
      "smoke                                     20\n",
      "very heavy rain                           18\n",
      "thunderstorm with light drizzle           15\n",
      "light intensity shower rain               13\n",
      "proximity thunderstorm with drizzle       13\n",
      "light shower snow                         11\n",
      "light rain and snow                        6\n",
      "shower drizzle                             6\n",
      "SQUALLS                                    4\n",
      "sleet                                      3\n",
      "freezing rain                              2\n",
      "thunderstorm with drizzle                  2\n",
      "shower snow                                1\n",
      "Name: weather_description, dtype: int64\n"
     ]
    }
   ],
   "source": [
    "print(mitv['weather_description'].value_counts())"
   ]
  },
  {
   "cell_type": "code",
   "execution_count": null,
   "metadata": {},
   "outputs": [],
   "source": []
  },
  {
   "cell_type": "code",
   "execution_count": 294,
   "metadata": {
    "collapsed": true
   },
   "outputs": [
    {
     "data": {
      "image/png": "[encoded data removed]",
      "text/plain": [
       "<Figure size 360x720 with 1 Axes>"
      ]
     },
     "metadata": {
      "needs_background": "light"
     },
     "output_type": "display_data"
    }
   ],
   "source": [
    "daytime['weather_description'] = daytime['weather_description'].sort_values()\n",
    "\n",
    "by_weather_description = daytime.groupby('weather_description').mean()\n",
    "by_weather_description['traffic_volume'].plot.barh(figsize=(5,10))\n",
    "plt.xlim(4200,6000)\n",
    "plt.show()"
   ]
  },
  {
   "cell_type": "code",
   "execution_count": 284,
   "metadata": {
    "collapsed": true
   },
   "outputs": [
    {
     "data": {
      "image/png": "[encoded data removed]",
      "text/plain": [
       "<Figure size 432x288 with 1 Axes>"
      ]
     },
     "metadata": {
      "needs_background": "light"
     },
     "output_type": "display_data"
    }
   ],
   "source": [
    "by_weather_main = daytime.groupby('weather_main').mean()\n",
    "by_weather_main['traffic_volume'].plot.barh()\n",
    "plt.xlim(4200,5000)\n",
    "plt.show()"
   ]
  },
  {
   "cell_type": "markdown",
   "metadata": {},
   "source": [
    "# Conclusion for Day Traffic Indicator¶\n",
    "We found a few indicators of heavy traffic on the I-94 Interstate highway. We managed to find three types of indicators:\n",
    "\n",
    "Time indicators\n",
    "- The traffic is usually heavier during warm months (March–October) compared to cold months (November–February).\n",
    "- The traffic is usually heavier on business days compared to the weekends.\n",
    "- On business days, the rush hours are around 7 and 16.\n",
    "\n",
    "Weather Indicators\n",
    "\n",
    "- Snow conditions increase traffic\n"
   ]
  }
 ],
 "metadata": {
  "kernelspec": {
   "display_name": "Python 3",
   "language": "python",
   "name": "python3"
  },
  "language_info": {
   "codemirror_mode": {
    "name": "ipython",
    "version": 3
   },
   "file_extension": ".py",
   "mimetype": "text/x-python",
   "name": "python",
   "nbconvert_exporter": "python",
   "pygments_lexer": "ipython3",
   "version": "3.7.6"
  }
 },
 "nbformat": 4,
 "nbformat_minor": 4
}
